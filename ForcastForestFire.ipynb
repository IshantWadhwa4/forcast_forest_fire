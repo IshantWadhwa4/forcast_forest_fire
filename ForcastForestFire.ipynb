{
  "nbformat": 4,
  "nbformat_minor": 0,
  "metadata": {
    "colab": {
      "name": "ForcastForestFire.ipynb",
      "provenance": [],
      "authorship_tag": "ABX9TyMlEr13DiQG/kPjmOmeEhwT",
      "include_colab_link": true
    },
    "kernelspec": {
      "name": "python3",
      "display_name": "Python 3"
    }
  },
  "cells": [
    {
      "cell_type": "markdown",
      "metadata": {
        "id": "view-in-github",
        "colab_type": "text"
      },
      "source": [
        "<a href=\"https://colab.research.google.com/github/IshantWadhwa4/forcast_forest_fire/blob/master/ForcastForestFire.ipynb\" target=\"_parent\"><img src=\"https://colab.research.google.com/assets/colab-badge.svg\" alt=\"Open In Colab\"/></a>"
      ]
    },
    {
      "cell_type": "markdown",
      "metadata": {
        "id": "9e3cgqkdHYXh",
        "colab_type": "text"
      },
      "source": [
        "# Forcast Forest Fire\n",
        "\n",
        "We will predict forest fire,in this we use data of the north portugal. You can use this machine learning model with any other data also. The data should be similar as the uploded data in the Data."
      ]
    },
    {
      "cell_type": "markdown",
      "metadata": {
        "id": "Ke3CCFOhHiMz",
        "colab_type": "text"
      },
      "source": [
        "## Step 1 Get Data from dataset"
      ]
    },
    {
      "cell_type": "code",
      "metadata": {
        "id": "Qo4X8gTEHgTn",
        "colab_type": "code",
        "colab": {}
      },
      "source": [
        "import pandas as pd"
      ],
      "execution_count": 0,
      "outputs": []
    },
    {
      "cell_type": "code",
      "metadata": {
        "id": "QC7DpX5UH9E3",
        "colab_type": "code",
        "colab": {}
      },
      "source": [
        "data = pd.read_csv('https://raw.githubusercontent.com/IshantWadhwa4/forcast_forest_fire/master/DataSet/forestfiresNorthOfPortugal.csv')"
      ],
      "execution_count": 0,
      "outputs": []
    },
    {
      "cell_type": "code",
      "metadata": {
        "id": "LwyJkHEfIAlb",
        "colab_type": "code",
        "colab": {}
      },
      "source": [
        ""
      ],
      "execution_count": 0,
      "outputs": []
    }
  ]
}